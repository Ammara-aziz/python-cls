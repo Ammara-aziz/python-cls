{
 "cells": [
  {
   "cell_type": "code",
   "execution_count": 9,
   "metadata": {},
   "outputs": [
    {
     "name": "stdout",
     "output_type": "stream",
     "text": [
      "I am going to crack Generative AI\n",
      "I am going to crack Generative AI\n",
      "I am going to crack Generative AI\n"
     ]
    }
   ],
   "source": [
    "print(\"I am going to crack Generative AI\") #2sec\n",
    "print(\"I am going to crack Generative AI\")\n",
    "print(\"I am going to crack Generative AI\")#4 hours\n"
   ]
  },
  {
   "cell_type": "code",
   "execution_count": 10,
   "metadata": {},
   "outputs": [
    {
     "name": "stdout",
     "output_type": "stream",
     "text": [
      "I am going to crack Generative AI\n",
      "I am going to crack Generative AI\n",
      "I am going to crack Generative AI\n"
     ]
    }
   ],
   "source": [
    "print(\"I am going to crack Generative AI\") \n",
    "print(\"I am going to crack Generative AI\")\n",
    "print(\"I am going to crack Generative AI\") "
   ]
  },
  {
   "cell_type": "markdown",
   "metadata": {},
   "source": [
    "# string \n"
   ]
  },
  {
   "cell_type": "code",
   "execution_count": null,
   "metadata": {},
   "outputs": [],
   "source": [
    "name=\"Muhammmad Umar\" \n",
    "print(name) # print\n",
    "print(type(name)) #type\n",
    "print(id(name)) #physical address\n",
    "print([i for i in dir(name) if \"__\" not in i]) # methods and attributes"
   ]
  },
  {
   "cell_type": "code",
   "execution_count": 4,
   "metadata": {},
   "outputs": [
    {
     "name": "stdout",
     "output_type": "stream",
     "text": [
      "500\n",
      "<class 'int'>\n",
      "2452079970064\n",
      "['as_integer_ratio', 'bit_count', 'bit_length', 'conjugate', 'denominator', 'from_bytes', 'imag', 'is_integer', 'numerator', 'real', 'to_bytes']\n"
     ]
    }
   ],
   "source": [
    "name=\"Muhammmad Umar\" \n",
    "name=500\n",
    "print(name) # print\n",
    "print(type(name)) #type\n",
    "print(id(name)) #physical address\n",
    "print([i for i in dir(name) if \"__\" not in i]) # methods and attributes\n"
   ]
  },
  {
   "cell_type": "code",
   "execution_count": 6,
   "metadata": {},
   "outputs": [
    {
     "name": "stdout",
     "output_type": "stream",
     "text": [
      "500\n"
     ]
    }
   ],
   "source": [
    "\n",
    "name:int =8 \n",
    "print(name) # print\n",
    "print(type(name)) #type\n",
    "print(id(name)) #physical address\n",
    "print([i for i in dir(name) if \"__\" not in i]) # methods and attributes\n",
    "\n"
   ]
  },
  {
   "cell_type": "code",
   "execution_count": 12,
   "metadata": {},
   "outputs": [
    {
     "name": "stdout",
     "output_type": "stream",
     "text": [
      "Muhammmad Umar\n",
      "<class 'str'>\n",
      "2452081538480\n",
      "['capitalize', 'casefold', 'center', 'count', 'encode', 'endswith', 'expandtabs', 'find', 'format', 'format_map', 'index', 'isalnum', 'isalpha', 'isascii', 'isdecimal', 'isdigit', 'isidentifier', 'islower', 'isnumeric', 'isprintable', 'isspace', 'istitle', 'isupper', 'join', 'ljust', 'lower', 'lstrip', 'maketrans', 'partition', 'removeprefix', 'removesuffix', 'replace', 'rfind', 'rindex', 'rjust', 'rpartition', 'rsplit', 'rstrip', 'split', 'splitlines', 'startswith', 'strip', 'swapcase', 'title', 'translate', 'upper', 'zfill']\n"
     ]
    }
   ],
   "source": [
    "name :str =\"Muhammmad Umar\" \n",
    "print(name) # print\n",
    "print(type(name)) #type\n",
    "print(id(name)) #physical address\n",
    "print([i for i in dir(name) if \"__\" not in i]) # methods and attributes\n",
    "\n"
   ]
  },
  {
   "cell_type": "code",
   "execution_count": 8,
   "metadata": {},
   "outputs": [],
   "source": [
    "name: float= 7.9\n",
    "print(name) # print\n",
    "print(type(name)) #type\n",
    "print(id(name)) #physical address\n",
    "print([i for i in dir(name) if \"__\" not in i]) # methods and attributes\n"
   ]
  },
  {
   "cell_type": "code",
   "execution_count": 13,
   "metadata": {},
   "outputs": [
    {
     "name": "stdout",
     "output_type": "stream",
     "text": [
      "True\n",
      "<class 'bool'>\n",
      "140717351504592\n",
      "['as_integer_ratio', 'bit_count', 'bit_length', 'conjugate', 'denominator', 'from_bytes', 'imag', 'is_integer', 'numerator', 'real', 'to_bytes']\n"
     ]
    }
   ],
   "source": [
    "name: bool = True\n",
    "print(name) # print\n",
    "print(type(name)) #type\n",
    "print(id(name)) #physical address\n",
    "print([i for i in dir(name) if \"__\" not in i]) # methods and attributes\n"
   ]
  },
  {
   "cell_type": "code",
   "execution_count": 14,
   "metadata": {},
   "outputs": [
    {
     "name": "stdout",
     "output_type": "stream",
     "text": [
      "['a', 'b']\n",
      "<class 'list'>\n",
      "2452080002496\n",
      "['append', 'clear', 'copy', 'count', 'extend', 'index', 'insert', 'pop', 'remove', 'reverse', 'sort']\n"
     ]
    }
   ],
   "source": [
    "name :list [str]=['a','b']\n",
    "print(name) # print\n",
    "print(type(name)) #type\n",
    "print(id(name)) #physical address\n",
    "print([i for i in dir(name) if \"__\" not in i]) # methods and attributes"
   ]
  },
  {
   "cell_type": "code",
   "execution_count": 15,
   "metadata": {},
   "outputs": [
    {
     "name": "stdout",
     "output_type": "stream",
     "text": [
      "('ukhano', 78, 7.9)\n",
      "<class 'tuple'>\n",
      "2452081526528\n",
      "['count', 'index']\n"
     ]
    }
   ],
   "source": [
    "name :tuple [str,int ,float]= ('ukhano',78,7.9)\n",
    "print(name) # print\n",
    "print(type(name)) #type\n",
    "print(id(name)) #physical address\n",
    "print([i for i in dir(name) if \"__\" not in i]) # methods and attributes"
   ]
  },
  {
   "cell_type": "code",
   "execution_count": null,
   "metadata": {},
   "outputs": [],
   "source": [
    "# boundaries \n",
    "#  ' string text ', \" string text \", ''' string text ''',\n",
    "#  \"\"\"  string text \"\"\"   \n",
    "\n",
    "# `string text ` allowed in ts\n",
    "\n",
    "name : str = \"M. Umar\"\n",
    "name : str = 'M. Umar'\n",
    "print(type(name))\n",
    "fname : str = \"Abdul Aziz\"\n"
   ]
  },
  {
   "cell_type": "code",
   "execution_count": 47,
   "metadata": {},
   "outputs": [
    {
     "name": "stdout",
     "output_type": "stream",
     "text": [
      " PIAIC Student CARD\n",
      " Student Name: Ammara Gul\n",
      "age:18\n",
      "Education: WEB 3.0\n"
     ]
    }
   ],
   "source": [
    "name : str = \"Ammara Gul\"\n",
    "fname : str = \"Abdul Aziz\"\n",
    "Education : str =\"WEB 3.0\"\n",
    "Age : int = 18\n",
    "card  : str = \" PIAIC Student CARD\\n Student Name: \" + name + \\\n",
    "      \"\\nage:\" + str(Age) + \"\\n\" \\\n",
    "      \"Education: \" + Education\n",
    "print(card)"
   ]
  },
  {
   "cell_type": "markdown",
   "metadata": {},
   "source": [
    "# DEfine Multiline String \"\"\" \"\"\",''' ''' "
   ]
  },
  {
   "cell_type": "code",
   "execution_count": 49,
   "metadata": {},
   "outputs": [
    {
     "name": "stdout",
     "output_type": "stream",
     "text": [
      " \n",
      "PIAIC Student CARD\n",
      "Student Name : AMMARA GUL\n",
      "Father's Name : ABDUL ABDUL AZIZ\n",
      "Age : 18\n",
      "Education : \n",
      "\n",
      "\n"
     ]
    }
   ],
   "source": [
    "name : str = \"Ammara Gul\"\n",
    "fname : str = \"Abdul Aziz\"\n",
    "education : str =\"WEB 3.0\"\n",
    "age : int = 18\n",
    "\n",
    "card  : str = \"\"\" \n",
    "PIAIC Student CARD\n",
    "Student Name : AMMARA GUL\n",
    "Father's Name : ABDUL ABDUL AZIZ\n",
    "Age : 18\n",
    "Education : \n",
    "\n",
    "\"\"\"\n",
    "print(card)"
   ]
  },
  {
   "cell_type": "markdown",
   "metadata": {},
   "source": [
    "# F-string python"
   ]
  },
  {
   "cell_type": "code",
   "execution_count": 51,
   "metadata": {},
   "outputs": [
    {
     "name": "stdout",
     "output_type": "stream",
     "text": [
      " \n",
      "PIAIC Student CARD\n",
      "Student Name :  Ammara Gul\n",
      "Father's Name : Abdul Aziz\n",
      "Age : 18\n",
      "Education : Typescript,Python\n",
      "\n"
     ]
    }
   ],
   "source": [
    "name : str = \"Ammara Gul\"\n",
    "fname : str = \"Abdul Aziz\"\n",
    "education : str =\"Typescript,Python\"\n",
    "age : int = 18\n",
    "\n",
    "card  : str = f\"\"\" \n",
    "PIAIC Student CARD\n",
    "Student Name :  {name}\n",
    "Father's Name : {fname}\n",
    "Age : {age}\n",
    "Education : {education}\n",
    "\"\"\"\n",
    "print(card)\n"
   ]
  },
  {
   "cell_type": "markdown",
   "metadata": {},
   "source": [
    "# f-string Usage\n",
    "concatenation +\n",
    "placeholder assign +\n",
    "numerical function or any expression"
   ]
  },
  {
   "cell_type": "code",
   "execution_count": 54,
   "metadata": {},
   "outputs": [
    {
     "name": "stdout",
     "output_type": "stream",
     "text": [
      "\n",
      "PIAIC Student CARD\n",
      "Student Name :  Ammara Gul\n",
      "Father's Name : Abdul Aziz\n",
      "Age : 18\n",
      "Education : Typescript,Python\n",
      "Total 15\n",
      "\n"
     ]
    }
   ],
   "source": [
    "card  : str = f'''\n",
    "PIAIC Student CARD\n",
    "Student Name :  {name}\n",
    "Father's Name : {fname}\n",
    "Age : {age}\n",
    "Education : {education}\n",
    "Total: {2 + 5 + 8}\n",
    "'''\n",
    "print(card)"
   ]
  },
  {
   "cell_type": "code",
   "execution_count": 53,
   "metadata": {},
   "outputs": [
    {
     "ename": "SyntaxError",
     "evalue": "unterminated string literal (detected at line 4) (3317500352.py, line 4)",
     "output_type": "error",
     "traceback": [
      "\u001b[1;36m  Cell \u001b[1;32mIn[53], line 4\u001b[1;36m\u001b[0m\n\u001b[1;33m    Father's Name : {fname}\u001b[0m\n\u001b[1;37m          ^\u001b[0m\n\u001b[1;31mSyntaxError\u001b[0m\u001b[1;31m:\u001b[0m unterminated string literal (detected at line 4)\n"
     ]
    }
   ],
   "source": [
    "card  : str = f```\n",
    "PIAIC Student CARD\n",
    "Student Name :  {name}\n",
    "Father's Name : {fname}\n",
    "Age : {age}\n",
    "Education : {education}\n",
    "```\n",
    "print(card)"
   ]
  },
  {
   "cell_type": "markdown",
   "metadata": {},
   "source": [
    "# F-String and Jinja style"
   ]
  },
  {
   "cell_type": "code",
   "execution_count": 4,
   "metadata": {},
   "outputs": [
    {
     "data": {
      "text/plain": [
       "'\\nStudent Name {{name}}\\n'"
      ]
     },
     "execution_count": 4,
     "metadata": {},
     "output_type": "execute_result"
    }
   ],
   "source": [
    "\n",
    "# Django(jango) web dev in python OR Flask , in which  var join with html page \n",
    "\n",
    "# Jinja style => (operate when HTML perform on server)\n",
    "\"\"\"\n",
    "Student Name {{name}}\n",
    "\"\"\""
   ]
  },
  {
   "cell_type": "code",
   "execution_count": 5,
   "metadata": {},
   "outputs": [
    {
     "name": "stdout",
     "output_type": "stream",
     "text": [
      "\n",
      "PIAIC Student CARD\n",
      "Student Name :  Ammara Gul\n",
      "Father's Name : Abdul Aziz\n",
      "Age : 18\n",
      "Education : Typescript,Python\n",
      "Total: 15\n",
      "\n"
     ]
    }
   ],
   "source": [
    "name : str = \"Ammara Gul\"\n",
    "fname : str = \"Abdul Aziz\"\n",
    "education : str =\"Typescript,Python\"\n",
    "age : int = 18\n",
    "# % used in C programming\n",
    "card  : str = f'''\n",
    "PIAIC Student CARD\n",
    "Student Name :  %s\n",
    "Father's Name : %s\n",
    "Age : %d\n",
    "Education : %s\n",
    "''' % (name, fname, age, education)\n",
    "print(card)"
   ]
  },
  {
   "cell_type": "code",
   "execution_count": null,
   "metadata": {},
   "outputs": [],
   "source": [
    "name : str = \"Ammara Gul\"\n",
    "fname : str = \"Abdul Aziz\"\n",
    "education : str =\"Typescript,Python\"\n",
    "age : int = 18\n",
    "\n",
    "ard  : str = f'''\n",
    "PIAIC Student CARD\n",
    "Student Name :  {name}\n",
    "Father's Name : {fname}\n",
    "Age : {age}\n",
    "Education : {education}\n",
    "'''\n",
    "print(card)"
   ]
  },
  {
   "cell_type": "code",
   "execution_count": 8,
   "metadata": {},
   "outputs": [
    {
     "data": {
      "text/plain": [
       "['capitalize',\n",
       " 'casefold',\n",
       " 'center',\n",
       " 'count',\n",
       " 'encode',\n",
       " 'endswith',\n",
       " 'expandtabs',\n",
       " 'find',\n",
       " 'format',\n",
       " 'format_map',\n",
       " 'index',\n",
       " 'isalnum',\n",
       " 'isalpha',\n",
       " 'isascii',\n",
       " 'isdecimal',\n",
       " 'isdigit',\n",
       " 'isidentifier',\n",
       " 'islower',\n",
       " 'isnumeric',\n",
       " 'isprintable',\n",
       " 'isspace',\n",
       " 'istitle',\n",
       " 'isupper',\n",
       " 'join',\n",
       " 'ljust',\n",
       " 'lower',\n",
       " 'lstrip',\n",
       " 'maketrans',\n",
       " 'partition',\n",
       " 'removeprefix',\n",
       " 'removesuffix',\n",
       " 'replace',\n",
       " 'rfind',\n",
       " 'rindex',\n",
       " 'rjust',\n",
       " 'rpartition',\n",
       " 'rsplit',\n",
       " 'rstrip',\n",
       " 'split',\n",
       " 'splitlines',\n",
       " 'startswith',\n",
       " 'strip',\n",
       " 'swapcase',\n",
       " 'title',\n",
       " 'translate',\n",
       " 'upper',\n",
       " 'zfill']"
      ]
     },
     "execution_count": 8,
     "metadata": {},
     "output_type": "execute_result"
    }
   ],
   "source": [
    "# dir function => deduct method, attributes of this class\n",
    "[i for i in dir (str) if \"__\" not in i]"
   ]
  },
  {
   "cell_type": "code",
   "execution_count": 13,
   "metadata": {},
   "outputs": [
    {
     "data": {
      "text/plain": [
       "'oho value a = 7 and value b = 8'"
      ]
     },
     "execution_count": 13,
     "metadata": {},
     "output_type": "execute_result"
    }
   ],
   "source": [
    "a = 7\n",
    "b = 8\n",
    "# {} place holder\n",
    "#              0                1          \n",
    "\"oho value a = {} and value b = {}\".format(a,b)"
   ]
  },
  {
   "cell_type": "code",
   "execution_count": 3,
   "metadata": {},
   "outputs": [
    {
     "name": "stdout",
     "output_type": "stream",
     "text": [
      " \n",
      "PIAIC Student CARD\n",
      "Student Name :  Ammara Gul\n",
      "Father's Name : Abdul Aziz\n",
      "Age : 18\n",
      "Education : Typescript,Python\n",
      "\n"
     ]
    }
   ],
   "source": [
    "name : str = \"Ammara Gul\"\n",
    "fname : str = \"Abdul Aziz\"\n",
    "education : str =\"Typescript,Python\"\n",
    "age : int = 18\n",
    "\n",
    "card  : str = \"\"\" \n",
    "PIAIC Student CARD\n",
    "Student Name :  {2}\n",
    "Father's Name : {3}\n",
    "Age : {1}\n",
    "Education : {0}\n",
    "\"\"\".format(education,age,name,fname,)\n",
    "    #          0      1    2    3\n",
    "print(card)\n"
   ]
  },
  {
   "cell_type": "code",
   "execution_count": 6,
   "metadata": {},
   "outputs": [
    {
     "name": "stdout",
     "output_type": "stream",
     "text": [
      " \n",
      "PIAIC Student CARD\n",
      "Student Name :  Ammara Gul\n",
      "Father's Name : Abdul Aziz\n",
      "Age : 18\n",
      "Education : Typescript,Python\n",
      "\n"
     ]
    }
   ],
   "source": [
    "name : str = \"Ammara Gul\"\n",
    "fname : str = \"Abdul Aziz\"\n",
    "education : str =\"Typescript,Python\"\n",
    "age : int = 18\n",
    "\n",
    "card  : str = \"\"\" \n",
    "PIAIC Student CARD\n",
    "Student Name :  {b}\n",
    "Father's Name : {c}\n",
    "Age : {a}\n",
    "Education : {d}\n",
    "\"\"\".format(a=age,b=name,c=fname,d=education) #f-string ka dot format k sath ,template in langchain\n",
    "print(card)"
   ]
  },
  {
   "cell_type": "markdown",
   "metadata": {},
   "source": [
    "# Recomended below two F-string format"
   ]
  },
  {
   "cell_type": "code",
   "execution_count": null,
   "metadata": {},
   "outputs": [],
   "source": [
    "ame : str = \"Ammara Gul\"\n",
    "fname : str = \"Abdul Aziz\"\n",
    "education : str =\"Typescript,Python\"\n",
    "age : int = 18\n",
    "\n",
    "card  : str = f\"\"\" \n",
    "PIAIC Student CARD\n",
    "Student Name :  {name}\n",
    "Father's Name : {fname}\n",
    "Age : {age}\n",
    "Education : {education}\n",
    "\"\"\"\n",
    "print(card)\n"
   ]
  },
  {
   "cell_type": "code",
   "execution_count": 12,
   "metadata": {},
   "outputs": [
    {
     "name": "stdout",
     "output_type": "stream",
     "text": [
      "Muhammad umar\n",
      "muhammad umar\n"
     ]
    }
   ],
   "source": [
    "name : str = \"Muhammad Umar\"\n",
    "print(name.capitalize())\n",
    "print(name.lower())"
   ]
  },
  {
   "cell_type": "code",
   "execution_count": 7,
   "metadata": {},
   "outputs": [
    {
     "name": "stdout",
     "output_type": "stream",
     "text": [
      "who are u?\n",
      "13\n"
     ]
    }
   ],
   "source": [
    "stu_code : str = \"\"\"\n",
    "print(\"who are u?\")\n",
    "a : int = 7\n",
    "b : int = 6\n",
    "print (a+ b)\n",
    "\"\"\"\n",
    "exec(stu_code)"
   ]
  },
  {
   "cell_type": "markdown",
   "metadata": {},
   "source": [
    "# Explore String methods and attributes\n",
    "  Pre defined Global Functions\n",
    "* print\n",
    "* type\n",
    "* id\n",
    "* dir\n",
    "* len"
   ]
  },
  {
   "cell_type": "code",
   "execution_count": 8,
   "metadata": {},
   "outputs": [
    {
     "name": "stdout",
     "output_type": "stream",
     "text": [
      "['capitalize', 'casefold', 'center', 'count', 'encode', 'endswith', 'expandtabs', 'find', 'format', 'format_map', 'index', 'isalnum', 'isalpha', 'isascii', 'isdecimal', 'isdigit', 'isidentifier', 'islower', 'isnumeric', 'isprintable', 'isspace', 'istitle', 'isupper', 'join', 'ljust', 'lower', 'lstrip', 'maketrans', 'partition', 'removeprefix', 'removesuffix', 'replace', 'rfind', 'rindex', 'rjust', 'rpartition', 'rsplit', 'rstrip', 'split', 'splitlines', 'startswith', 'strip', 'swapcase', 'title', 'translate', 'upper', 'zfill']\n",
      "47\n"
     ]
    }
   ],
   "source": [
    "# Explore String methods and attributes\n",
    "a : list [str] = [i for i in dir (str) if \"__\" not in i]\n",
    "print(a)\n",
    "# length checking\n",
    "print(len(a))"
   ]
  },
  {
   "cell_type": "code",
   "execution_count": 9,
   "metadata": {},
   "outputs": [
    {
     "name": "stdout",
     "output_type": "stream",
     "text": [
      "What gonna u do?\n"
     ]
    }
   ],
   "source": [
    "mes : str = \"what gonna u do?\"\n",
    "# var_name.method()\n",
    "\n",
    "print(mes.capitalize())"
   ]
  },
  {
   "cell_type": "code",
   "execution_count": 11,
   "metadata": {},
   "outputs": [
    {
     "name": "stdout",
     "output_type": "stream",
     "text": [
      "What gonna u do?\n",
      "what gonna u do?\n"
     ]
    }
   ],
   "source": [
    "mes : str = \"What gonna u do?\"\n",
    "# var_name.method()\n",
    "print(mes)\n",
    "print(mes.casefold()) # small every charac"
   ]
  },
  {
   "cell_type": "code",
   "execution_count": 15,
   "metadata": {},
   "outputs": [
    {
     "data": {
      "text/plain": [
       "'     what gonna u do?     '"
      ]
     },
     "metadata": {},
     "output_type": "display_data"
    },
    {
     "data": {
      "text/plain": [
       "'what gonna u do?     '"
      ]
     },
     "metadata": {},
     "output_type": "display_data"
    },
    {
     "data": {
      "text/plain": [
       "'     what gonna u do?'"
      ]
     },
     "metadata": {},
     "output_type": "display_data"
    },
    {
     "data": {
      "text/plain": [
       "'what gonna u do?'"
      ]
     },
     "metadata": {},
     "output_type": "display_data"
    }
   ],
   "source": [
    "mes : str = \"     what gonna u do?     \"\n",
    "# var_name.method()\n",
    "display(mes)\n",
    "display(mes.lstrip()) # remove extra space from left side\n",
    "display(mes.rstrip())\n",
    "display(mes.strip())"
   ]
  },
  {
   "cell_type": "code",
   "execution_count": 18,
   "metadata": {},
   "outputs": [
    {
     "data": {
      "text/plain": [
       "'     what   gonna    u do?     '"
      ]
     },
     "metadata": {},
     "output_type": "display_data"
    },
    {
     "data": {
      "text/plain": [
       "'what gonna u do?'"
      ]
     },
     "metadata": {},
     "output_type": "display_data"
    }
   ],
   "source": [
    "import re \n",
    "mes : str = \"     what   gonna    u do?     \"\n",
    "display(mes)\n",
    "#                    pattern  replacement \n",
    "nam1 : str = re.sub(' {2,100}',' ',mes).strip()\n",
    "display(nam1)"
   ]
  },
  {
   "cell_type": "code",
   "execution_count": 19,
   "metadata": {},
   "outputs": [
    {
     "data": {
      "text/plain": [
       "'     what gonna u do?     '"
      ]
     },
     "metadata": {},
     "output_type": "display_data"
    },
    {
     "data": {
      "text/plain": [
       "'     What Gonna U Do?     '"
      ]
     },
     "metadata": {},
     "output_type": "display_data"
    }
   ],
   "source": [
    "mes : str = \"     what gonna u do?     \"\n",
    "# var_name.method()\n",
    "display(mes)\n",
    "display(mes.title())"
   ]
  },
  {
   "cell_type": "code",
   "execution_count": 14,
   "metadata": {},
   "outputs": [
    {
     "name": "stdout",
     "output_type": "stream",
     "text": [
      "Hello,Eda Ali!\n"
     ]
    }
   ],
   "source": [
    "first_name = \"eda\"\n",
    "last_name = \"Ali\"\n",
    "full_name = f\"{first_name} {last_name}\"\n",
    "print(f\"Hello,{full_name.title()}!\")"
   ]
  },
  {
   "cell_type": "code",
   "execution_count": 15,
   "metadata": {},
   "outputs": [
    {
     "name": "stdout",
     "output_type": "stream",
     "text": [
      "Institute:\t\t PIAIC\n"
     ]
    }
   ],
   "source": [
    "print(\"Institute:\\t\\t PIAIC\")"
   ]
  },
  {
   "cell_type": "code",
   "execution_count": null,
   "metadata": {},
   "outputs": [],
   "source": [
    "# /n new line\n",
    "print(\"Institute:\\n PIAIC\")"
   ]
  },
  {
   "cell_type": "code",
   "execution_count": null,
   "metadata": {},
   "outputs": [],
   "source": [
    "# \"/b\" means backspace (del word from left side)\n",
    "print(\"Institute:\\b PIAIC\")"
   ]
  },
  {
   "cell_type": "code",
   "execution_count": 16,
   "metadata": {},
   "outputs": [
    {
     "data": {
      "text/plain": [
       "'nonstarch.com'"
      ]
     },
     "execution_count": 16,
     "metadata": {},
     "output_type": "execute_result"
    }
   ],
   "source": [
    "nonstarch_url : str ='https://nonstarch.com'\n",
    "nonstarch_url.removeprefix('https://')"
   ]
  },
  {
   "cell_type": "code",
   "execution_count": 17,
   "metadata": {},
   "outputs": [
    {
     "name": "stdout",
     "output_type": "stream",
     "text": [
      "ammara\n"
     ]
    }
   ],
   "source": [
    "#1name:str =\"ammara\" => throw error var name don't start with number\n",
    "_1name : str =\"ammara\"\n",
    "print(_1name)"
   ]
  },
  {
   "cell_type": "code",
   "execution_count": 19,
   "metadata": {},
   "outputs": [
    {
     "name": "stdout",
     "output_type": "stream",
     "text": [
      "Ammara\n"
     ]
    }
   ],
   "source": [
    "# space has special meaning\n",
    "#piaic student name : str =\"Ammara\"\n",
    "piaic_student_name : str =\"Ammara\"\n",
    "print(piaic_student_name)\n"
   ]
  },
  {
   "cell_type": "markdown",
   "metadata": {},
   "source": [
    "print (7 + 4 + 9)"
   ]
  },
  {
   "cell_type": "markdown",
   "metadata": {},
   "source": [
    "# \"\\\\\" line continue"
   ]
  },
  {
   "cell_type": "code",
   "execution_count": 41,
   "metadata": {},
   "outputs": [
    {
     "name": "stdout",
     "output_type": "stream",
     "text": [
      "20\n"
     ]
    }
   ],
   "source": [
    "print (7 + \\\n",
    "       4 + \\\n",
    "       9)"
   ]
  },
  {
   "cell_type": "code",
   "execution_count": 36,
   "metadata": {},
   "outputs": [
    {
     "data": {
      "text/plain": [
       "'a 7'"
      ]
     },
     "execution_count": 36,
     "metadata": {},
     "output_type": "execute_result"
    }
   ],
   "source": [
    "#\"a\" + 7\n",
    "\"a\" + \"7\""
   ]
  },
  {
   "cell_type": "code",
   "execution_count": 16,
   "metadata": {},
   "outputs": [
    {
     "name": "stdout",
     "output_type": "stream",
     "text": [
      "<class 'str'>\n"
     ]
    }
   ],
   "source": [
    "name : str = 'M. Umar'\n",
    "print(type(name))"
   ]
  },
  {
   "cell_type": "code",
   "execution_count": 21,
   "metadata": {},
   "outputs": [
    {
     "name": "stdout",
     "output_type": "stream",
     "text": [
      " PIAIC \"Student CARDS\" \n",
      " father Name \n"
     ]
    }
   ],
   "source": [
    "message : str = ' PIAIC \"Student CARDS\" \\n father Name '\n",
    "print (message)"
   ]
  },
  {
   "cell_type": "code",
   "execution_count": 24,
   "metadata": {},
   "outputs": [
    {
     "data": {
      "text/plain": [
       "'ab'"
      ]
     },
     "execution_count": 24,
     "metadata": {},
     "output_type": "execute_result"
    }
   ],
   "source": [
    "\"a\" + \"b\""
   ]
  },
  {
   "cell_type": "code",
   "execution_count": 20,
   "metadata": {},
   "outputs": [
    {
     "name": "stdout",
     "output_type": "stream",
     "text": [
      "PIAIC CARDS \n",
      " father's Father's\n"
     ]
    }
   ],
   "source": [
    "message : str = \"PIAIC CARDS \\n father's Father's\"\n",
    "print (message)"
   ]
  },
  {
   "cell_type": "code",
   "execution_count": 22,
   "metadata": {},
   "outputs": [
    {
     "name": "stdout",
     "output_type": "stream",
     "text": [
      "PIAIC CARDS \n",
      " father's  Name\n"
     ]
    }
   ],
   "source": [
    "# code in which Apostrophe being used so at\n",
    "#  that cover the code with double quote instead of single\n",
    "\n",
    "#message : str = 'PIAIC CARDS \\n father's  Name'\n",
    "\n",
    "#print(message)\n",
    "\n",
    "# convrt any specia charcter into simple character , place \\ before character\n",
    "\n",
    "message : str = 'PIAIC CARDS \\n father\\'s Name'\n",
    "print (message)"
   ]
  },
  {
   "cell_type": "code",
   "execution_count": null,
   "metadata": {},
   "outputs": [],
   "source": []
  }
 ],
 "metadata": {
  "kernelspec": {
   "display_name": "python12",
   "language": "python",
   "name": "python3"
  },
  "language_info": {
   "codemirror_mode": {
    "name": "ipython",
    "version": 3
   },
   "file_extension": ".py",
   "mimetype": "text/x-python",
   "name": "python",
   "nbconvert_exporter": "python",
   "pygments_lexer": "ipython3",
   "version": "3.12.0"
  }
 },
 "nbformat": 4,
 "nbformat_minor": 2
}
